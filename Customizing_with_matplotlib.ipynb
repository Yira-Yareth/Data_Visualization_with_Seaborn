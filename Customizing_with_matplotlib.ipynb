{
 "cells": [
  {
   "cell_type": "markdown",
   "metadata": {},
   "source": [
    "## Customizing with matplotlib\n",
    "\n",
    "Customizing with matplotlib\n",
    "Seaborn has several convenience functions for modifying components of your final Seaborn visualization. Since Seaborn is based on matplotlib, there is a wide variety of options for further modifying your Seaborn plots."
   ]
  },
  {
   "cell_type": "code",
   "execution_count": 1,
   "metadata": {},
   "outputs": [],
   "source": [
    "#Importing packages\n",
    "import io \n",
    "import pandas as pd\n",
    "import seaborn as sns\n",
    "import matplotlib.pyplot as plt"
   ]
  },
  {
   "cell_type": "code",
   "execution_count": 2,
   "metadata": {},
   "outputs": [
    {
     "name": "stdout",
     "output_type": "stream",
     "text": [
      "<class 'pandas.core.frame.DataFrame'>\n",
      "RangeIndex: 4769 entries, 0 to 4768\n",
      "Data columns (total 22 columns):\n",
      " #   Column            Non-Null Count  Dtype  \n",
      "---  ------            --------------  -----  \n",
      " 0   Unnamed: 0        4769 non-null   int64  \n",
      " 1   Unnamed: 0.1      4769 non-null   int64  \n",
      " 2   fips2010          4769 non-null   int64  \n",
      " 3   fmr_0             4769 non-null   int64  \n",
      " 4   fmr_1             4769 non-null   int64  \n",
      " 5   fmr_2             4769 non-null   int64  \n",
      " 6   fmr_3             4769 non-null   int64  \n",
      " 7   fmr_4             4769 non-null   int64  \n",
      " 8   state             4769 non-null   int64  \n",
      " 9   metro_code        4769 non-null   object \n",
      " 10  areaname          4769 non-null   object \n",
      " 11  county            4769 non-null   int64  \n",
      " 12  cousub            4769 non-null   int64  \n",
      " 13  countyname        4769 non-null   object \n",
      " 14  county_town_name  4769 non-null   object \n",
      " 15  pop2010           4767 non-null   float64\n",
      " 16  acs_2017_2        4769 non-null   int64  \n",
      " 17  state_alpha       4769 non-null   object \n",
      " 18  fmr_type          4769 non-null   int64  \n",
      " 19  metro             4769 non-null   int64  \n",
      " 20  fmr_pct_chg       4769 non-null   float64\n",
      " 21  fmr_dollar_chg    4769 non-null   int64  \n",
      "dtypes: float64(2), int64(15), object(5)\n",
      "memory usage: 819.8+ KB\n",
      "None\n"
     ]
    }
   ],
   "source": [
    "#Reading csv\n",
    "df=pd.read_csv(\"datasets//US_urban_department.csv\")\n",
    "print(df.info())"
   ]
  },
  {
   "cell_type": "code",
   "execution_count": 3,
   "metadata": {},
   "outputs": [
    {
     "name": "stderr",
     "output_type": "stream",
     "text": [
      "C:\\Users\\Yira\\Anaconda\\lib\\site-packages\\seaborn\\distributions.py:2619: FutureWarning: `distplot` is a deprecated function and will be removed in a future version. Please adapt your code to use either `displot` (a figure-level function with similar flexibility) or `histplot` (an axes-level function for histograms).\n",
      "  warnings.warn(msg, FutureWarning)\n"
     ]
    },
    {
     "data": {
      "image/png": "[encoded data removed]",
      "text/plain": [
       "<Figure size 432x288 with 1 Axes>"
      ]
     },
     "metadata": {
      "needs_background": "light"
     },
     "output_type": "display_data"
    }
   ],
   "source": [
    "#Using plt.subplots() to create a axes and figure objects\n",
    "fig, ax = plt.subplots()\n",
    "\n",
    "# Plot the distribution of data\n",
    "sns.distplot(df['fmr_3'], ax=ax)\n",
    "\n",
    "# Create a more descriptive x axis label\n",
    "ax.set(xlabel=\"3 Bedroom Fair Market Rent\")\n",
    "\n",
    "# Show the plot\n",
    "plt.show()\n"
   ]
  }
 ],
 "metadata": {
  "interpreter": {
   "hash": "be9772337e76630d57b874c7eb4812959236d388181218c853d83d1703fa1a09"
  },
  "kernelspec": {
   "display_name": "Python 3.9.7 ('base')",
   "language": "python",
   "name": "python3"
  },
  "language_info": {
   "codemirror_mode": {
    "name": "ipython",
    "version": 3
   },
   "file_extension": ".py",
   "mimetype": "text/x-python",
   "name": "python",
   "nbconvert_exporter": "python",
   "pygments_lexer": "ipython3",
   "version": "3.9.7"
  },
  "orig_nbformat": 4
 },
 "nbformat": 4,
 "nbformat_minor": 2
}
